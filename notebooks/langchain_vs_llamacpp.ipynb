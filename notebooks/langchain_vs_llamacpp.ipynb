{
 "cells": [
  {
   "cell_type": "code",
   "execution_count": 1,
   "metadata": {},
   "outputs": [],
   "source": [
    "from pa.llm.langchain import LangchainLlamaLLM\n",
    "from pa.llm.llamacpp import LlamaLLM"
   ]
  },
  {
   "cell_type": "code",
   "execution_count": 2,
   "metadata": {},
   "outputs": [],
   "source": [
    "model_path=\"./models/wizard-mega-13b/wizard-mega-13B.ggml.q4_0.bin\""
   ]
  },
  {
   "cell_type": "code",
   "execution_count": 3,
   "metadata": {},
   "outputs": [],
   "source": [
    "question='Who is the president of Ukraine?'\n",
    "query = f\"\"\"### Instruction: You are a helpful assistant. You should answer the question at the end.\n",
    "\n",
    "Question: {question}\n",
    "\n",
    "### Assistant:\"\"\".format(question)"
   ]
  },
  {
   "attachments": {},
   "cell_type": "markdown",
   "metadata": {},
   "source": [
    "## Llamacpp-python wrapper based"
   ]
  },
  {
   "cell_type": "code",
   "execution_count": 7,
   "metadata": {},
   "outputs": [
    {
     "name": "stderr",
     "output_type": "stream",
     "text": [
      "llama.cpp: loading model from ./models/wizard-mega-13b/wizard-mega-13B.ggml.q4_0.bin\n",
      "llama_model_load_internal: format     = ggjt v2 (latest)\n",
      "llama_model_load_internal: n_vocab    = 32000\n",
      "llama_model_load_internal: n_ctx      = 2048\n",
      "llama_model_load_internal: n_embd     = 5120\n",
      "llama_model_load_internal: n_mult     = 256\n",
      "llama_model_load_internal: n_head     = 40\n",
      "llama_model_load_internal: n_layer    = 40\n",
      "llama_model_load_internal: n_rot      = 128\n",
      "llama_model_load_internal: ftype      = 2 (mostly Q4_0)\n",
      "llama_model_load_internal: n_ff       = 13824\n",
      "llama_model_load_internal: n_parts    = 1\n",
      "llama_model_load_internal: model size = 13B\n",
      "llama_model_load_internal: ggml ctx size =  90.75 KB\n",
      "llama_model_load_internal: mem required  = 9807.48 MB (+ 1608.00 MB per state)\n",
      "llama_model_load_internal: [cublas] offloading 40 layers to GPU\n",
      "llama_model_load_internal: [cublas] total VRAM used: 7562 MB\n",
      "llama_init_from_file: kv self size  = 1600.00 MB\n",
      "AVX = 1 | AVX2 = 1 | AVX512 = 0 | AVX512_VBMI = 0 | AVX512_VNNI = 0 | FMA = 1 | NEON = 0 | ARM_FMA = 0 | F16C = 1 | FP16_VA = 0 | WASM_SIMD = 0 | BLAS = 1 | SSE3 = 1 | VSX = 0 | \n"
     ]
    },
    {
     "name": "stdout",
     "output_type": "stream",
     "text": [
      " The current President of Ukraine is Volodymyr Zelenskyy, who took office on May 20, 2019."
     ]
    },
    {
     "name": "stderr",
     "output_type": "stream",
     "text": [
      "\n",
      "llama_print_timings:        load time =   329.59 ms\n",
      "llama_print_timings:      sample time =    10.18 ms /    31 runs   (    0.33 ms per token)\n",
      "llama_print_timings: prompt eval time =   329.54 ms /    38 tokens (    8.67 ms per token)\n",
      "llama_print_timings:        eval time =   873.47 ms /    30 runs   (   29.12 ms per token)\n",
      "llama_print_timings:       total time =  2691.42 ms\n"
     ]
    }
   ],
   "source": [
    "llm = LlamaLLM(model_path, n_gpu_layers=40, n_ctx=2048, verbose=True)\n",
    "response = llm.generate_response(query)"
   ]
  },
  {
   "attachments": {},
   "cell_type": "markdown",
   "metadata": {},
   "source": [
    "## Langchains LlamaCpp wrapper based"
   ]
  },
  {
   "cell_type": "code",
   "execution_count": 4,
   "metadata": {},
   "outputs": [
    {
     "name": "stderr",
     "output_type": "stream",
     "text": [
      "llama.cpp: loading model from ./models/wizard-mega-13b/wizard-mega-13B.ggml.q4_0.bin\n",
      "llama_model_load_internal: format     = ggjt v2 (latest)\n",
      "llama_model_load_internal: n_vocab    = 32000\n",
      "llama_model_load_internal: n_ctx      = 2048\n",
      "llama_model_load_internal: n_embd     = 5120\n",
      "llama_model_load_internal: n_mult     = 256\n",
      "llama_model_load_internal: n_head     = 40\n",
      "llama_model_load_internal: n_layer    = 40\n",
      "llama_model_load_internal: n_rot      = 128\n",
      "llama_model_load_internal: ftype      = 2 (mostly Q4_0)\n",
      "llama_model_load_internal: n_ff       = 13824\n",
      "llama_model_load_internal: n_parts    = 1\n",
      "llama_model_load_internal: model size = 13B\n",
      "llama_model_load_internal: ggml ctx size =  90.75 KB\n",
      "llama_model_load_internal: mem required  = 9807.48 MB (+ 1608.00 MB per state)\n",
      "llama_model_load_internal: [cublas] offloading 40 layers to GPU\n",
      "llama_model_load_internal: [cublas] total VRAM used: 7562 MB\n",
      "llama_init_from_file: kv self size  = 1600.00 MB\n",
      "AVX = 1 | AVX2 = 1 | AVX512 = 0 | AVX512_VBMI = 0 | AVX512_VNNI = 0 | FMA = 1 | NEON = 0 | ARM_FMA = 0 | F16C = 1 | FP16_VA = 0 | WASM_SIMD = 0 | BLAS = 1 | SSE3 = 1 | VSX = 0 | \n"
     ]
    },
    {
     "name": "stdout",
     "output_type": "stream",
     "text": [
      " As of April 2021, Volodymyr Zelenskyy is the President of Ukraine."
     ]
    },
    {
     "name": "stderr",
     "output_type": "stream",
     "text": [
      "\n",
      "llama_print_timings:        load time =   279.80 ms\n",
      "llama_print_timings:      sample time =     7.77 ms /    24 runs   (    0.32 ms per token)\n",
      "llama_print_timings: prompt eval time =  1400.30 ms /    38 tokens (   36.85 ms per token)\n",
      "llama_print_timings:        eval time =   668.11 ms /    23 runs   (   29.05 ms per token)\n",
      "llama_print_timings:       total time =  3183.60 ms\n"
     ]
    }
   ],
   "source": [
    "llm = LangchainLlamaLLM(model_path, n_gpu_layers=40, n_ctx=2048, verbose=True)\n",
    "response = llm.generate_response(query)"
   ]
  },
  {
   "cell_type": "code",
   "execution_count": null,
   "metadata": {},
   "outputs": [],
   "source": []
  }
 ],
 "metadata": {
  "kernelspec": {
   "display_name": "pa_Ret",
   "language": "python",
   "name": "python3"
  },
  "language_info": {
   "codemirror_mode": {
    "name": "ipython",
    "version": 3
   },
   "file_extension": ".py",
   "mimetype": "text/x-python",
   "name": "python",
   "nbconvert_exporter": "python",
   "pygments_lexer": "ipython3",
   "version": "3.10.9"
  },
  "orig_nbformat": 4
 },
 "nbformat": 4,
 "nbformat_minor": 2
}
