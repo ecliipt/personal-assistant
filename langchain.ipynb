{
 "cells": [
  {
   "cell_type": "code",
   "execution_count": 1,
   "metadata": {},
   "outputs": [],
   "source": [
    "from pa.llm.langchain import LangchainLlamaLLM"
   ]
  },
  {
   "cell_type": "code",
   "execution_count": 2,
   "metadata": {},
   "outputs": [
    {
     "ename": "TypeError",
     "evalue": "LangchainLlamaLLM.__init__() got an unexpected keyword argument 'config'",
     "output_type": "error",
     "traceback": [
      "\u001b[0;31m---------------------------------------------------------------------------\u001b[0m",
      "\u001b[0;31mTypeError\u001b[0m                                 Traceback (most recent call last)",
      "Cell \u001b[0;32mIn[2], line 2\u001b[0m\n\u001b[1;32m      1\u001b[0m model_path\u001b[39m=\u001b[39m\u001b[39m\"\u001b[39m\u001b[39m./models/wizard-mega-13b/wizard-mega-13B.ggml.q4_0.bin\u001b[39m\u001b[39m\"\u001b[39m\n\u001b[0;32m----> 2\u001b[0m llm \u001b[39m=\u001b[39m LangchainLlamaLLM(model_path, config\u001b[39m=\u001b[39;49m{\u001b[39m'\u001b[39;49m\u001b[39mn_gpu_layers\u001b[39;49m\u001b[39m'\u001b[39;49m: \u001b[39m40\u001b[39;49m,\n\u001b[1;32m      3\u001b[0m                                             \u001b[39m'\u001b[39;49m\u001b[39mn_ctx\u001b[39;49m\u001b[39m'\u001b[39;49m: \u001b[39m2048\u001b[39;49m,\n\u001b[1;32m      4\u001b[0m                                             \u001b[39m'\u001b[39;49m\u001b[39mverbose\u001b[39;49m\u001b[39m'\u001b[39;49m: \u001b[39mTrue\u001b[39;49;00m,\n\u001b[1;32m      5\u001b[0m                                             \u001b[39m'\u001b[39;49m\u001b[39mstreaming\u001b[39;49m\u001b[39m'\u001b[39;49m: \u001b[39mTrue\u001b[39;49;00m})\n",
      "\u001b[0;31mTypeError\u001b[0m: LangchainLlamaLLM.__init__() got an unexpected keyword argument 'config'"
     ]
    }
   ],
   "source": [
    "model_path=\"./models/wizard-mega-13b/wizard-mega-13B.ggml.q4_0.bin\"\n",
    "llm = LangchainLlamaLLM(model_path, n_gpu_layers=40, n_ctx=2048, verbose=True)"
   ]
  },
  {
   "cell_type": "code",
   "execution_count": 3,
   "metadata": {},
   "outputs": [
    {
     "name": "stdout",
     "output_type": "stream",
     "text": [
      " The current President of Ukraine is Volodymyr Zelenskyy, who was elected in April 2019.</s>"
     ]
    },
    {
     "name": "stderr",
     "output_type": "stream",
     "text": [
      "\n",
      "llama_print_timings:        load time =   280.16 ms\n",
      "llama_print_timings:      sample time =    10.22 ms /    29 runs   (    0.35 ms per token)\n",
      "llama_print_timings: prompt eval time =  1393.18 ms /    38 tokens (   36.66 ms per token)\n",
      "llama_print_timings:        eval time =   766.29 ms /    28 runs   (   27.37 ms per token)\n",
      "llama_print_timings:       total time =  3621.66 ms\n"
     ]
    }
   ],
   "source": [
    "question='Who is the president of Ukraine?'\n",
    "query = f\"\"\"### Instruction: You are a helpful assistant. You should answer the question at the end.\n",
    "\n",
    "Question: {question}\n",
    "\n",
    "### Assistant:\"\"\".format(question)\n",
    "\n",
    "response = llm.generate_response(query)"
   ]
  },
  {
   "cell_type": "code",
   "execution_count": null,
   "metadata": {},
   "outputs": [],
   "source": []
  }
 ],
 "metadata": {
  "kernelspec": {
   "display_name": "pa_Ret",
   "language": "python",
   "name": "python3"
  },
  "language_info": {
   "codemirror_mode": {
    "name": "ipython",
    "version": 3
   },
   "file_extension": ".py",
   "mimetype": "text/x-python",
   "name": "python",
   "nbconvert_exporter": "python",
   "pygments_lexer": "ipython3",
   "version": "3.10.9"
  },
  "orig_nbformat": 4
 },
 "nbformat": 4,
 "nbformat_minor": 2
}
